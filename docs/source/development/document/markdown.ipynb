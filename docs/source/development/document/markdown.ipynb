{
 "cells": [
  {
   "cell_type": "markdown",
   "metadata": {},
   "source": [
    "# markdown教程"
   ]
  },
  {
   "cell_type": "markdown",
   "metadata": {},
   "source": [
    "Markdown是一种轻量级标记语言，它允许人们使用易读易写的纯文本格式编写文档，然后转化为html文档等。由于Markdown的轻量化、易读易写特性，并且对于图片，图表、数学式都有支持，当前许多网站都支持使用Markdown来撰写文档或是用于论坛上发表消息。如GitHub、GitBook、Reddit、SourceForge、简书等。"
   ]
  },
  {
   "cell_type": "markdown",
   "metadata": {},
   "source": [
    "## 标题\n",
    "Markdown标题表示方法有两种：\n",
    "\n",
    "第一种是标题前使用`#`号表示，1个`#`号表示一级标题，2个`#`号表示二级标题，依次类推到六级标题。使用如下：\n",
    "```\n",
    "# 文章标题 h1\n",
    "## 节标题 h2\n",
    "### 小节标题 h3\n",
    "#### 子小节标题 h4\n",
    "##### 不推荐使用了 h5\n",
    "###### 不推荐使用了 h6\n",
    "```\n",
    "\n",
    "第二种是使用标题下面加符号表示，`=`号表示一级标题和`-`号表示二级标题，但仅支持这2种标题。推荐使用第一种标题表示方法。   \n",
    "使用如下：\n",
    "\n",
    "    文章标题 h1\n",
    "    =============\n",
    "    节标题 h2 \n",
    "    -------------\n"
   ]
  },
  {
   "cell_type": "markdown",
   "metadata": {},
   "source": [
    "## 文本样式\n",
    "* 斜体：使用1个星号\\*或下划线\\_包裹文字。\n",
    "* 粗体：使用2个星号\\*\\*或下划线\\_\\_包裹文字。\n",
    "* 等宽字体：使用2个反引号\\`\\`包裹文字\n",
    "\n",
    "使用如下： \n",
    "\n",
    "    这里是*斜体*，这里是**粗体**, 这里是`等宽字体`\n",
    "    \n",
    "显示效果： \n",
    "\n",
    "这里是*斜体*，这里是**粗体**, 这里是`等宽字体`"
   ]
  },
  {
   "cell_type": "markdown",
   "metadata": {},
   "source": [
    "## 列表\n",
    "\n",
    "### 无序列表\n",
    "无序列表使用使用星号（\\*），加号（+），或减号（-）在行首标记，并使用空格与后面文字分隔开。一般使用一种自己常用的符号即可。使用如下：\n",
    "\n",
    "    * 苹果\n",
    "    * 西瓜\n",
    "    \n",
    "    -   Candy.\n",
    "    -   Gum. \n",
    "    \n",
    "显示效果如下；    \n",
    "\n",
    "* 苹果\n",
    "* 西瓜\n",
    "\n",
    "-   Candy.\n",
    "-   Gum.\n",
    "\n",
    "### 有序列表\n",
    "有序列表使用数字加点在行首标记，并使用空格与后面文字分隔开。使用如下：\n",
    "\n",
    "    1.  红色\n",
    "    2.  绿色\n",
    "    3.  蓝色\n",
    "\n",
    "显示如下：\n",
    "\n",
    "1.  红色\n",
    "2.  绿色\n",
    "3.  蓝色\n",
    "\n",
    "### 列表嵌套\n",
    "子列表在行首加4个空格。使用如下：\n",
    "\n",
    "    * 水果\n",
    "        * 苹果\n",
    "        * 西瓜\n",
    "    * 蔬菜\n",
    "        1. 白菜\n",
    "        2. 胡萝卜\n",
    "        \n",
    "显示如下：\n",
    "\n",
    "* 水果\n",
    "    * 苹果\n",
    "    * 西瓜\n",
    "* 蔬菜\n",
    "    1. 白菜\n",
    "    2. 胡萝卜"
   ]
  },
  {
   "cell_type": "markdown",
   "metadata": {},
   "source": [
    "## 链接\n",
    "### 行内式链接\n",
    "行内式链接使用`[链接名称](链接地址)`表示。如果不需要链接名称，可以直接写`<链接地址>`或直接写`链接地址`。使用如下：\n",
    "\n",
    "    [百度](https://baidu.com/)    \n",
    "    [百度](https://baidu.com/ \"悬停显示文字\")    \n",
    "    https://baidu.com/   \n",
    "    <https://baidu.com/> \n",
    "    \n",
    "显示效果：\n",
    "\n",
    "[百度](https://baidu.com/)    \n",
    "[百度](https://baidu.com/ \"悬停显示文字\")   \n",
    "https://baidu.com/   \n",
    "<https://baidu.com/>   \n",
    "\n",
    "### 参考式链接\n",
    "参考式链接可以使链接和链接地址分离。链接处使用`[链接名称][变量名]`表示，链接的地址可以放在文章的其他地方，一般在文章的末尾，使用`[变量名]: 链接地址 `来关联。使用如下：\n",
    "\n",
    "    搜索引擎有[Google][1]和[百度][baidu]等，在中国常用的还是[百度][baidu]。\n",
    "\n",
    "    [1]: https://google.com/\n",
    "    [baidu]: https://baidu.com/\n",
    "\n",
    "显示效果：\n",
    "\n",
    "搜索引擎有[Google][1]和[百度][baidu]等，在中国常用的还是[百度][baidu]。\n",
    "\n",
    "[1]: https://google.com/\n",
    "[baidu]: https://baidu.com/\n"
   ]
  },
  {
   "cell_type": "markdown",
   "metadata": {},
   "source": [
    "## 表格\n",
    "markdown表格使用分隔符（|）来分隔不同列，使用减号（-）来分割表头与表格内容。 与csv文件类似，这里使用|号分隔。使用如下：\n",
    "\n",
    "    交易所| 简称| 成立时间| \n",
    "    --| --| --|\n",
    "    郑州商品交易所| ZCE| 1990年10月12日\n",
    "    上海期货交易所| SHFE| 1990年11月26日\n",
    "  \n",
    "显示效果如下：\n",
    "\n",
    "交易所| 简称| 成立时间| \n",
    "--| --| --|\n",
    "郑州商品交易所| ZCE| 1990年10月12日\n",
    "上海期货交易所| SHFE| 1990年11月26日\n",
    "\n",
    "\n",
    "表格：\n",
    "\n",
    "|id    | name     |   score|\n",
    "|---   |   ---    |  ---|\n",
    "|00|    Mark   |  90|\n",
    "|002   |   Ford      80|\n",
    "|003   |   Alan   |   95|"
   ]
  },
  {
   "cell_type": "markdown",
   "metadata": {},
   "source": [
    "## 代码块\n",
    "\n",
    "\n"
   ]
  },
  {
   "cell_type": "markdown",
   "metadata": {},
   "source": [
    "## 参考文献\n",
    "* [维基百科：Markdown](https://zh.wikipedia.org/wiki/Markdown)\n",
    "* [xianbai.me：Learning-Markdown (Markdown 入门参考)](http://xianbai.me/learn-md/index.html)\n",
    "* [huihut.com：Markdown 简易入门教程](https://blog.huihut.com/2017/01/25/MarkdownTutorial/)\n",
    "* [少数派：Te_Lee-认识与入门 Markdown](https://sspai.com/post/25137)\n",
    "* [菜鸟教程：Markdown 教程](https://www.runoob.com/markdown/md-tutorial.html)\n",
    "* [Github：Mastering Markdown](https://guides.github.com/features/mastering-markdown/)\n"
   ]
  },
  {
   "cell_type": "markdown",
   "metadata": {},
   "source": [
    "## 网站\n",
    "* [markdown官网](https://daringfireball.net/projects/markdown/)"
   ]
  }
 ],
 "metadata": {
  "kernelspec": {
   "display_name": "Python 3",
   "language": "python",
   "name": "python3"
  },
  "language_info": {
   "codemirror_mode": {
    "name": "ipython",
    "version": 3
   },
   "file_extension": ".py",
   "mimetype": "text/x-python",
   "name": "python",
   "nbconvert_exporter": "python",
   "pygments_lexer": "ipython3",
   "version": "3.7.6"
  },
  "toc-autonumbering": true,
  "toc-showcode": false,
  "toc-showmarkdowntxt": false,
  "toc-showtags": false
 },
 "nbformat": 4,
 "nbformat_minor": 4
}
