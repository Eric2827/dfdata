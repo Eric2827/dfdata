{
 "cells": [
  {
   "cell_type": "markdown",
   "metadata": {},
   "source": [
    "# 期货合约\n",
    "\n",
    "期货合约（Futures Contract）是标准化的远期合约，并在期货交易所内交易。 期货合约是由期货交易所制定的，合约规定了给定产品的质量、数量、实物交割时间和地点。"
   ]
  },
  {
   "cell_type": "markdown",
   "metadata": {},
   "source": [
    "## 使用dfdata读取保存\n",
    "\n",
    "* 数据表名称：futures_basic\n",
    "* 保存函数：save_futures_basic\n",
    "* 读取函数：read_futures_basic\n",
    "\n",
    "字段名称| 统一名称| 描述|\n",
    "--| --| --|\n",
    "code| 是| 合约代码\n",
    "start_date| 是| 上市日期\n",
    "end_date| 是| 最后交易日期\n",
    "\n",
    "注：非统一名称，在各数据源文档查看定义"
   ]
  },
  {
   "cell_type": "markdown",
   "metadata": {},
   "source": [
    "### save_futures_basic 保存期货合约表\n",
    "\n"
   ]
  },
  {
   "cell_type": "code",
   "execution_count": null,
   "metadata": {},
   "outputs": [],
   "source": [
    "#import dfdata as da\n",
    "\n",
    "#da.save_futures_basic('tushare')"
   ]
  },
  {
   "cell_type": "markdown",
   "metadata": {},
   "source": [
    "### read_futures_basic 读取期货合约表"
   ]
  },
  {
   "cell_type": "code",
   "execution_count": null,
   "metadata": {},
   "outputs": [],
   "source": [
    "#da.read_futures_basic('tushare')"
   ]
  },
  {
   "cell_type": "markdown",
   "metadata": {},
   "source": [
    "## 期货合约要素\n",
    "- 合约名称（Contract Name）是指某一期货合约的标题。\n",
    "* 基础资产（Underlying Assets）是指期货合约的标的物，又可称为交易品种、合约标的。\n",
    "* 交易单位（Contract Size）是指由交易场所规定的期货合约单位和期货合约计量单位的统称，也称为合约规模。\n",
    "* 报价单位（Price Quotation）是指期货合约报价所使用的单位，又可称为报价方式。\n",
    "* 最小变动价位（Minimum Price Fluctuation）是指期货合约的单位价格涨跌变动的最小值，在期货交易中，每次报价的变动数值应是最小变动价位的整数倍。\n",
    "* 涨跌停板幅度（Daily Price Limit）是指期货合约在一个交易日中的交易价格不得高于或者低于规定的涨跌幅度，超过该涨跌幅度的报价将被视为无效，不能成交。一般是以期货合约上一交易日的结算价为基准确定的，又可称为每日价格最大波动限制。\n",
    "* 合约月份（Contract Months）是指该期货合约标明进行交割的月份。\n",
    "* 交易时间（Trading Hours）是指以期货合约为标的物进行交易活动的起止时间段。\n",
    "* 最后交易日（Last Trading Day）是指某一期货合约进行交易的最后一个交易日。该交易日收盘后未平仓期货合约，按规定进行实物交割或现金交割。\n",
    "\n"
   ]
  },
  {
   "cell_type": "markdown",
   "metadata": {},
   "source": [
    "## 期货合约种类\n",
    "\n",
    "商品期货合约\n",
    ":    以农产品、工业品、能源和其他商品及其相关指数产品为标的物的期货合约。\n",
    "    \n",
    "金融期货合约\n",
    ":    以有价证券、利率、汇率等金融产品及其相关指数产品为标的物的期货合约"
   ]
  },
  {
   "cell_type": "markdown",
   "metadata": {},
   "source": [
    "## 参考文献\n",
    "\n",
    "* [CME Group：期货合约的定义](https://www.cmegroup.com/cn-s/education/learn-about-trading/courses/introduction-to-futures/definition-of-a-futures-contract.html)\n",
    "* [维基百科：期货](https://zh.wikipedia.org/wiki/%E6%9C%9F%E8%B4%A7)\n",
    "* [中国证券监督管理委员会：期货合约要素(2020)](http://www.csrc.gov.cn/pub/zjhpublic/zjh/202002/P020200228535813027616.pdf)"
   ]
  }
 ],
 "metadata": {
  "kernelspec": {
   "display_name": "Python 3",
   "language": "python",
   "name": "python3"
  },
  "language_info": {
   "codemirror_mode": {
    "name": "ipython",
    "version": 3
   },
   "file_extension": ".py",
   "mimetype": "text/x-python",
   "name": "python",
   "nbconvert_exporter": "python",
   "pygments_lexer": "ipython3",
   "version": "3.7.6"
  }
 },
 "nbformat": 4,
 "nbformat_minor": 4
}
